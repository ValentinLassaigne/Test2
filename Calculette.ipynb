{
 "cells": [
  {
   "cell_type": "code",
   "execution_count": 1,
   "metadata": {},
   "outputs": [],
   "source": [
    "import pandas as pd\n",
    "import numpy as np\n",
    "import matplotlib.pyplot as plt\n",
    "import plotly.graph_objects as go\n",
    "import plotly.express as px\n",
    "pd.options.plotting.backend = \"plotly\""
   ]
  },
  {
   "cell_type": "code",
   "execution_count": 2,
   "metadata": {},
   "outputs": [],
   "source": [
    "class Environnement:\n",
    "    def __init__(self,nb_client,facets,assets,periode_collecte):\n",
    "        self.nb_client = nb_client\n",
    "        self.facets = facets\n",
    "        self.assets = assets\n",
    "        self.periode_collecte = periode_collecte\n",
    "        self.facets_par_min = facets * 60 / periode_collecte\n",
    "        self.assets_par_min = assets * 60 / periode_collecte\n",
    "        self.données_par_min = self.facets_par_min + self.assets_par_min\n",
    "\n",
    "\n",
    "class Application:\n",
    "    def __init__(self,CPU,RAM,SSD ):\n",
    "        self.CPU = CPU\n",
    "        self.RAM = RAM\n",
    "        self.SSD = SSD\n",
    "\n",
    "\n",
    "class emission:\n",
    "    def __init__(self,cassandra,kafka,aks,nb_client, d_vie_serv, d_vie_sys, st_data_p, replication, nb_metrique, intensite_ssd):\n",
    "        self.cassandra = cassandra\n",
    "        self.kafka = kafka\n",
    "        self.aks = aks\n",
    "        self.total = cassandra + kafka + aks\n",
    "        self.total_unit = self.total / nb_client\n",
    "        self.total_acv = self.total * d_vie_sys / d_vie_serv\n",
    "        self.total_acv_unit = self.total_acv / nb_client\n",
    "        self.st_annuel = (st_data_p * 365 * 24 * 60 * nb_metrique * 1e-12) * intensite_ssd * replication *  Duree_vie_serveur * nb_client * sum(i  for i in range(0,int(Duree_vie_systeme / Duree_vie_serveur)+1))\n",
    "        self.total_acv2 = self.total_acv + self.st_annuel\n",
    "        self.total_acv2_unit = self.total_acv2 / nb_client\n",
    "\n",
    "#def calcul_CO2(cpu, ram, ssd):\n",
    "#    return cpu * intensite.CPU + ram * intensite.RAM + ssd * intensite.SSD\n",
    "        \n",
    "         \n",
    "intensite = Application(19.7,3.75,51)\n",
    "varta = {\n",
    "    \"data\" : Environnement(27000,14,0,120),\n",
    "    \"cassandra\" : Application(170,960,66),\n",
    "    \"kafka\" : Application(15,96,26),\n",
    "    \"aks\" : Application(35,960,2)\n",
    "}\n",
    "\n",
    "HEMS = {\n",
    "    \"data\" : Environnement(1,36,207,15),\n",
    "}\n",
    "\n",
    "Duree_vie_serveur = 4\n",
    "Duree_vie_systeme = 30\n",
    "st_data_p = 8.5\n",
    "replication = 5\n",
    "\n",
    "def Stock_annuel(Env):\n",
    "    return (st_data_p * 365 * 24 * 60 * Env[\"data\"].données_par_min * 1e-12) * intensite.SSD * replication *  Duree_vie_serveur * Env[\"data\"].nb_client * sum(i  for i in range(0,int(Duree_vie_systeme / Duree_vie_serveur)+1))\n",
    "\n",
    "\n",
    "facteur_asset_facet = 0.5"
   ]
  },
  {
   "cell_type": "code",
   "execution_count": 3,
   "metadata": {},
   "outputs": [
    {
     "ename": "ValueError",
     "evalue": "Mime type rendering requires nbformat>=4.2.0 but it is not installed",
     "output_type": "error",
     "traceback": [
      "\u001b[0;31m---------------------------------------------------------------------------\u001b[0m",
      "\u001b[0;31mValueError\u001b[0m                                Traceback (most recent call last)",
      "Cell \u001b[0;32mIn[3], line 30\u001b[0m\n\u001b[1;32m     27\u001b[0m df\u001b[39m=\u001b[39m\u001b[39mround\u001b[39m(df,\u001b[39m2\u001b[39m)\n\u001b[1;32m     29\u001b[0m fig \u001b[39m=\u001b[39m px\u001b[39m.\u001b[39msunburst(df, path\u001b[39m=\u001b[39m[\u001b[39m'\u001b[39m\u001b[39mApplication\u001b[39m\u001b[39m'\u001b[39m, \u001b[39m'\u001b[39m\u001b[39mInfra\u001b[39m\u001b[39m'\u001b[39m], values\u001b[39m=\u001b[39m\u001b[39m'\u001b[39m\u001b[39mIntensite_syst_unit\u001b[39m\u001b[39m'\u001b[39m)\n\u001b[0;32m---> 30\u001b[0m fig\u001b[39m.\u001b[39;49mshow()\n",
      "File \u001b[0;32m~/Documents/hems-carbon-calculator/venv/lib/python3.9/site-packages/plotly/basedatatypes.py:3409\u001b[0m, in \u001b[0;36mBaseFigure.show\u001b[0;34m(self, *args, **kwargs)\u001b[0m\n\u001b[1;32m   3376\u001b[0m \u001b[39m\u001b[39m\u001b[39m\"\"\"\u001b[39;00m\n\u001b[1;32m   3377\u001b[0m \u001b[39mShow a figure using either the default renderer(s) or the renderer(s)\u001b[39;00m\n\u001b[1;32m   3378\u001b[0m \u001b[39mspecified by the renderer argument\u001b[39;00m\n\u001b[0;32m   (...)\u001b[0m\n\u001b[1;32m   3405\u001b[0m \u001b[39mNone\u001b[39;00m\n\u001b[1;32m   3406\u001b[0m \u001b[39m\"\"\"\u001b[39;00m\n\u001b[1;32m   3407\u001b[0m \u001b[39mimport\u001b[39;00m \u001b[39mplotly\u001b[39;00m\u001b[39m.\u001b[39;00m\u001b[39mio\u001b[39;00m \u001b[39mas\u001b[39;00m \u001b[39mpio\u001b[39;00m\n\u001b[0;32m-> 3409\u001b[0m \u001b[39mreturn\u001b[39;00m pio\u001b[39m.\u001b[39;49mshow(\u001b[39mself\u001b[39;49m, \u001b[39m*\u001b[39;49margs, \u001b[39m*\u001b[39;49m\u001b[39m*\u001b[39;49mkwargs)\n",
      "File \u001b[0;32m~/Documents/hems-carbon-calculator/venv/lib/python3.9/site-packages/plotly/io/_renderers.py:396\u001b[0m, in \u001b[0;36mshow\u001b[0;34m(fig, renderer, validate, **kwargs)\u001b[0m\n\u001b[1;32m    391\u001b[0m         \u001b[39mraise\u001b[39;00m \u001b[39mValueError\u001b[39;00m(\n\u001b[1;32m    392\u001b[0m             \u001b[39m\"\u001b[39m\u001b[39mMime type rendering requires ipython but it is not installed\u001b[39m\u001b[39m\"\u001b[39m\n\u001b[1;32m    393\u001b[0m         )\n\u001b[1;32m    395\u001b[0m     \u001b[39mif\u001b[39;00m \u001b[39mnot\u001b[39;00m nbformat \u001b[39mor\u001b[39;00m Version(nbformat\u001b[39m.\u001b[39m__version__) \u001b[39m<\u001b[39m Version(\u001b[39m\"\u001b[39m\u001b[39m4.2.0\u001b[39m\u001b[39m\"\u001b[39m):\n\u001b[0;32m--> 396\u001b[0m         \u001b[39mraise\u001b[39;00m \u001b[39mValueError\u001b[39;00m(\n\u001b[1;32m    397\u001b[0m             \u001b[39m\"\u001b[39m\u001b[39mMime type rendering requires nbformat>=4.2.0 but it is not installed\u001b[39m\u001b[39m\"\u001b[39m\n\u001b[1;32m    398\u001b[0m         )\n\u001b[1;32m    400\u001b[0m     ipython_display\u001b[39m.\u001b[39mdisplay(bundle, raw\u001b[39m=\u001b[39m\u001b[39mTrue\u001b[39;00m)\n\u001b[1;32m    402\u001b[0m \u001b[39m# external renderers\u001b[39;00m\n",
      "\u001b[0;31mValueError\u001b[0m: Mime type rendering requires nbformat>=4.2.0 but it is not installed"
     ]
    }
   ],
   "source": [
    "df=pd.DataFrame(\n",
    "    {\n",
    "        \"Application\" : pd.Categorical([\"Cassandra\", \"Cassandra\", \"Cassandra\", \"Kafka\", \"Kafka\", \"Kafka\", \"Aks\", \"Aks\", \"Aks\"]),\n",
    "        \"Infra\" : pd.Categorical([\"CPU\", \"RAM\", \"SSD\", \"CPU\", \"RAM\", \"SSD\", \"CPU\", \"RAM\", \"SSD\"]),\n",
    "        \"Provision\" : [varta[\"cassandra\"].CPU, varta[\"cassandra\"].RAM, varta[\"cassandra\"].SSD, varta[\"kafka\"].CPU, varta[\"kafka\"].RAM, varta[\"kafka\"].SSD, varta[\"aks\"].CPU, varta[\"aks\"].RAM, varta[\"aks\"].SSD],\n",
    "        \"Intensite_par_infra\" : [intensite.CPU, intensite.RAM, intensite.SSD, intensite.CPU, intensite.RAM, intensite.SSD, intensite.CPU, intensite.RAM, intensite.SSD]\n",
    "    }\n",
    ")\n",
    "\n",
    "df=df.assign(Intensite_serv=df[\"Provision\"] * df[\"Intensite_par_infra\"])\n",
    "df=df.assign(Intensite_syst=df[\"Intensite_serv\"] * Duree_vie_systeme  / Duree_vie_serveur)\n",
    "df.loc[(df[\"Application\"]==\"Cassandra\") & (df[\"Infra\"]==\"SSD\"), \"Intensite_syst\"] = df['Intensite_syst'] + Stock_annuel(varta)\n",
    "df=df.assign(Intensite_syst_unit=df[\"Intensite_syst\"] / varta[\"data\"].nb_client)\n",
    "\n",
    "\n",
    "\n",
    "df=df.assign(infra_metrique=df[\"Provision\"] / (varta[\"data\"].données_par_min * varta[\"data\"].nb_client ))\n",
    "df=df.assign(Intensite_HEMS_serv= HEMS[\"data\"].facets_par_min * HEMS[\"data\"].nb_client * df[\"infra_metrique\"] * df[\"Intensite_par_infra\"])\n",
    "\n",
    "df.loc[df[\"Application\"]==\"Cassandra\", \"Intensite_HEMS_serv\"] = df['Intensite_HEMS_serv'] + HEMS[\"data\"].assets_par_min * HEMS[\"data\"].nb_client * df[\"infra_metrique\"] * df[\"Intensite_par_infra\"]\n",
    "df.loc[df[\"Application\"]!=\"Cassandra\", \"Intensite_HEMS_serv\"] = df['Intensite_HEMS_serv'] + HEMS[\"data\"].assets_par_min * facteur_asset_facet * HEMS[\"data\"].nb_client * df[\"infra_metrique\"] * df[\"Intensite_par_infra\"]\n",
    "\n",
    "df=df.assign(Intensite_HEMS_syst=df[\"Intensite_HEMS_serv\"] * Duree_vie_systeme  / Duree_vie_serveur)\n",
    "df.loc[(df[\"Application\"]==\"Cassandra\") & (df[\"Infra\"]==\"SSD\"), \"Intensite_HEMS_syst\"] = df['Intensite_HEMS_syst'] + Stock_annuel(HEMS)\n",
    "df=df.assign(Intensite_HEMS_syst_unit=df[\"Intensite_HEMS_syst\"] / HEMS[\"data\"].nb_client)\n",
    "\n",
    "df=round(df,2)\n",
    "\n",
    "fig = px.sunburst(df, path=['Application', 'Infra'], values='Intensite_syst_unit')\n",
    "fig.show()"
   ]
  },
  {
   "cell_type": "code",
   "execution_count": 4,
   "metadata": {},
   "outputs": [
    {
     "data": {
      "text/html": [
       "<div>\n",
       "<style scoped>\n",
       "    .dataframe tbody tr th:only-of-type {\n",
       "        vertical-align: middle;\n",
       "    }\n",
       "\n",
       "    .dataframe tbody tr th {\n",
       "        vertical-align: top;\n",
       "    }\n",
       "\n",
       "    .dataframe thead th {\n",
       "        text-align: right;\n",
       "    }\n",
       "</style>\n",
       "<table border=\"1\" class=\"dataframe\">\n",
       "  <thead>\n",
       "    <tr style=\"text-align: right;\">\n",
       "      <th></th>\n",
       "      <th>Application</th>\n",
       "      <th>Infra</th>\n",
       "      <th>Provision</th>\n",
       "      <th>Intensite_par_infra</th>\n",
       "      <th>Intensite_serv</th>\n",
       "      <th>Intensite_syst</th>\n",
       "      <th>Intensite_syst_unit</th>\n",
       "      <th>infra_metrique</th>\n",
       "      <th>Intensite_HEMS_serv</th>\n",
       "      <th>Intensite_HEMS_syst</th>\n",
       "      <th>Intensite_HEMS_syst_unit</th>\n",
       "    </tr>\n",
       "  </thead>\n",
       "  <tbody>\n",
       "    <tr>\n",
       "      <th>0</th>\n",
       "      <td>Cassandra</td>\n",
       "      <td>CPU</td>\n",
       "      <td>170</td>\n",
       "      <td>19.70</td>\n",
       "      <td>3349.0</td>\n",
       "      <td>25117.50</td>\n",
       "      <td>0.93</td>\n",
       "      <td>0.00</td>\n",
       "      <td>17.22</td>\n",
       "      <td>129.18</td>\n",
       "      <td>129.18</td>\n",
       "    </tr>\n",
       "    <tr>\n",
       "      <th>1</th>\n",
       "      <td>Cassandra</td>\n",
       "      <td>RAM</td>\n",
       "      <td>960</td>\n",
       "      <td>3.75</td>\n",
       "      <td>3600.0</td>\n",
       "      <td>27000.00</td>\n",
       "      <td>1.00</td>\n",
       "      <td>0.01</td>\n",
       "      <td>18.51</td>\n",
       "      <td>138.86</td>\n",
       "      <td>138.86</td>\n",
       "    </tr>\n",
       "    <tr>\n",
       "      <th>2</th>\n",
       "      <td>Cassandra</td>\n",
       "      <td>SSD</td>\n",
       "      <td>66</td>\n",
       "      <td>51.00</td>\n",
       "      <td>3366.0</td>\n",
       "      <td>49360.39</td>\n",
       "      <td>1.83</td>\n",
       "      <td>0.00</td>\n",
       "      <td>17.31</td>\n",
       "      <td>253.85</td>\n",
       "      <td>253.85</td>\n",
       "    </tr>\n",
       "    <tr>\n",
       "      <th>3</th>\n",
       "      <td>Kafka</td>\n",
       "      <td>CPU</td>\n",
       "      <td>15</td>\n",
       "      <td>19.70</td>\n",
       "      <td>295.5</td>\n",
       "      <td>2216.25</td>\n",
       "      <td>0.08</td>\n",
       "      <td>0.00</td>\n",
       "      <td>0.87</td>\n",
       "      <td>6.54</td>\n",
       "      <td>6.54</td>\n",
       "    </tr>\n",
       "    <tr>\n",
       "      <th>4</th>\n",
       "      <td>Kafka</td>\n",
       "      <td>RAM</td>\n",
       "      <td>96</td>\n",
       "      <td>3.75</td>\n",
       "      <td>360.0</td>\n",
       "      <td>2700.00</td>\n",
       "      <td>0.10</td>\n",
       "      <td>0.00</td>\n",
       "      <td>1.06</td>\n",
       "      <td>7.97</td>\n",
       "      <td>7.97</td>\n",
       "    </tr>\n",
       "    <tr>\n",
       "      <th>5</th>\n",
       "      <td>Kafka</td>\n",
       "      <td>SSD</td>\n",
       "      <td>26</td>\n",
       "      <td>51.00</td>\n",
       "      <td>1326.0</td>\n",
       "      <td>9945.00</td>\n",
       "      <td>0.37</td>\n",
       "      <td>0.00</td>\n",
       "      <td>3.91</td>\n",
       "      <td>29.36</td>\n",
       "      <td>29.36</td>\n",
       "    </tr>\n",
       "    <tr>\n",
       "      <th>6</th>\n",
       "      <td>Aks</td>\n",
       "      <td>CPU</td>\n",
       "      <td>35</td>\n",
       "      <td>19.70</td>\n",
       "      <td>689.5</td>\n",
       "      <td>5171.25</td>\n",
       "      <td>0.19</td>\n",
       "      <td>0.00</td>\n",
       "      <td>2.04</td>\n",
       "      <td>15.27</td>\n",
       "      <td>15.27</td>\n",
       "    </tr>\n",
       "    <tr>\n",
       "      <th>7</th>\n",
       "      <td>Aks</td>\n",
       "      <td>RAM</td>\n",
       "      <td>960</td>\n",
       "      <td>3.75</td>\n",
       "      <td>3600.0</td>\n",
       "      <td>27000.00</td>\n",
       "      <td>1.00</td>\n",
       "      <td>0.01</td>\n",
       "      <td>10.63</td>\n",
       "      <td>79.71</td>\n",
       "      <td>79.71</td>\n",
       "    </tr>\n",
       "    <tr>\n",
       "      <th>8</th>\n",
       "      <td>Aks</td>\n",
       "      <td>SSD</td>\n",
       "      <td>2</td>\n",
       "      <td>51.00</td>\n",
       "      <td>102.0</td>\n",
       "      <td>765.00</td>\n",
       "      <td>0.03</td>\n",
       "      <td>0.00</td>\n",
       "      <td>0.30</td>\n",
       "      <td>2.26</td>\n",
       "      <td>2.26</td>\n",
       "    </tr>\n",
       "  </tbody>\n",
       "</table>\n",
       "</div>"
      ],
      "text/plain": [
       "  Application Infra  Provision  Intensite_par_infra  Intensite_serv  \\\n",
       "0   Cassandra   CPU        170                19.70          3349.0   \n",
       "1   Cassandra   RAM        960                 3.75          3600.0   \n",
       "2   Cassandra   SSD         66                51.00          3366.0   \n",
       "3       Kafka   CPU         15                19.70           295.5   \n",
       "4       Kafka   RAM         96                 3.75           360.0   \n",
       "5       Kafka   SSD         26                51.00          1326.0   \n",
       "6         Aks   CPU         35                19.70           689.5   \n",
       "7         Aks   RAM        960                 3.75          3600.0   \n",
       "8         Aks   SSD          2                51.00           102.0   \n",
       "\n",
       "   Intensite_syst  Intensite_syst_unit  infra_metrique  Intensite_HEMS_serv  \\\n",
       "0        25117.50                 0.93            0.00                17.22   \n",
       "1        27000.00                 1.00            0.01                18.51   \n",
       "2        49360.39                 1.83            0.00                17.31   \n",
       "3         2216.25                 0.08            0.00                 0.87   \n",
       "4         2700.00                 0.10            0.00                 1.06   \n",
       "5         9945.00                 0.37            0.00                 3.91   \n",
       "6         5171.25                 0.19            0.00                 2.04   \n",
       "7        27000.00                 1.00            0.01                10.63   \n",
       "8          765.00                 0.03            0.00                 0.30   \n",
       "\n",
       "   Intensite_HEMS_syst  Intensite_HEMS_syst_unit  \n",
       "0               129.18                    129.18  \n",
       "1               138.86                    138.86  \n",
       "2               253.85                    253.85  \n",
       "3                 6.54                      6.54  \n",
       "4                 7.97                      7.97  \n",
       "5                29.36                     29.36  \n",
       "6                15.27                     15.27  \n",
       "7                79.71                     79.71  \n",
       "8                 2.26                      2.26  "
      ]
     },
     "execution_count": 4,
     "metadata": {},
     "output_type": "execute_result"
    }
   ],
   "source": [
    "df"
   ]
  },
  {
   "cell_type": "code",
   "execution_count": 5,
   "metadata": {},
   "outputs": [
    {
     "data": {
      "application/vnd.plotly.v1+json": {
       "config": {
        "plotlyServerURL": "https://plot.ly"
       },
       "data": [
        {
         "branchvalues": "total",
         "domain": {
          "x": [
           0,
           1
          ],
          "y": [
           0,
           1
          ]
         },
         "hovertemplate": "labels=%{label}<br>Intensite_HEMS_syst_unit=%{value}<br>parent=%{parent}<br>id=%{id}<extra></extra>",
         "ids": [
          "Aks/CPU",
          "Cassandra/CPU",
          "Kafka/CPU",
          "Aks/RAM",
          "Cassandra/RAM",
          "Kafka/RAM",
          "Aks/SSD",
          "Cassandra/SSD",
          "Kafka/SSD",
          "Aks",
          "Cassandra",
          "Kafka"
         ],
         "labels": [
          "CPU",
          "CPU",
          "CPU",
          "RAM",
          "RAM",
          "RAM",
          "SSD",
          "SSD",
          "SSD",
          "Aks",
          "Cassandra",
          "Kafka"
         ],
         "name": "",
         "parents": [
          "Aks",
          "Cassandra",
          "Kafka",
          "Aks",
          "Cassandra",
          "Kafka",
          "Aks",
          "Cassandra",
          "Kafka",
          "",
          "",
          ""
         ],
         "textinfo": "label+percent entry+value",
         "type": "sunburst",
         "values": [
          15.27,
          129.18,
          6.54,
          79.71,
          138.86,
          7.97,
          2.26,
          253.85,
          29.36,
          97.24,
          521.89,
          43.87
         ]
        }
       ],
       "layout": {
        "legend": {
         "tracegroupgap": 0
        },
        "margin": {
         "t": 60
        },
        "template": {
         "data": {
          "bar": [
           {
            "error_x": {
             "color": "#2a3f5f"
            },
            "error_y": {
             "color": "#2a3f5f"
            },
            "marker": {
             "line": {
              "color": "#E5ECF6",
              "width": 0.5
             },
             "pattern": {
              "fillmode": "overlay",
              "size": 10,
              "solidity": 0.2
             }
            },
            "type": "bar"
           }
          ],
          "barpolar": [
           {
            "marker": {
             "line": {
              "color": "#E5ECF6",
              "width": 0.5
             },
             "pattern": {
              "fillmode": "overlay",
              "size": 10,
              "solidity": 0.2
             }
            },
            "type": "barpolar"
           }
          ],
          "carpet": [
           {
            "aaxis": {
             "endlinecolor": "#2a3f5f",
             "gridcolor": "white",
             "linecolor": "white",
             "minorgridcolor": "white",
             "startlinecolor": "#2a3f5f"
            },
            "baxis": {
             "endlinecolor": "#2a3f5f",
             "gridcolor": "white",
             "linecolor": "white",
             "minorgridcolor": "white",
             "startlinecolor": "#2a3f5f"
            },
            "type": "carpet"
           }
          ],
          "choropleth": [
           {
            "colorbar": {
             "outlinewidth": 0,
             "ticks": ""
            },
            "type": "choropleth"
           }
          ],
          "contour": [
           {
            "colorbar": {
             "outlinewidth": 0,
             "ticks": ""
            },
            "colorscale": [
             [
              0,
              "#0d0887"
             ],
             [
              0.1111111111111111,
              "#46039f"
             ],
             [
              0.2222222222222222,
              "#7201a8"
             ],
             [
              0.3333333333333333,
              "#9c179e"
             ],
             [
              0.4444444444444444,
              "#bd3786"
             ],
             [
              0.5555555555555556,
              "#d8576b"
             ],
             [
              0.6666666666666666,
              "#ed7953"
             ],
             [
              0.7777777777777778,
              "#fb9f3a"
             ],
             [
              0.8888888888888888,
              "#fdca26"
             ],
             [
              1,
              "#f0f921"
             ]
            ],
            "type": "contour"
           }
          ],
          "contourcarpet": [
           {
            "colorbar": {
             "outlinewidth": 0,
             "ticks": ""
            },
            "type": "contourcarpet"
           }
          ],
          "heatmap": [
           {
            "colorbar": {
             "outlinewidth": 0,
             "ticks": ""
            },
            "colorscale": [
             [
              0,
              "#0d0887"
             ],
             [
              0.1111111111111111,
              "#46039f"
             ],
             [
              0.2222222222222222,
              "#7201a8"
             ],
             [
              0.3333333333333333,
              "#9c179e"
             ],
             [
              0.4444444444444444,
              "#bd3786"
             ],
             [
              0.5555555555555556,
              "#d8576b"
             ],
             [
              0.6666666666666666,
              "#ed7953"
             ],
             [
              0.7777777777777778,
              "#fb9f3a"
             ],
             [
              0.8888888888888888,
              "#fdca26"
             ],
             [
              1,
              "#f0f921"
             ]
            ],
            "type": "heatmap"
           }
          ],
          "heatmapgl": [
           {
            "colorbar": {
             "outlinewidth": 0,
             "ticks": ""
            },
            "colorscale": [
             [
              0,
              "#0d0887"
             ],
             [
              0.1111111111111111,
              "#46039f"
             ],
             [
              0.2222222222222222,
              "#7201a8"
             ],
             [
              0.3333333333333333,
              "#9c179e"
             ],
             [
              0.4444444444444444,
              "#bd3786"
             ],
             [
              0.5555555555555556,
              "#d8576b"
             ],
             [
              0.6666666666666666,
              "#ed7953"
             ],
             [
              0.7777777777777778,
              "#fb9f3a"
             ],
             [
              0.8888888888888888,
              "#fdca26"
             ],
             [
              1,
              "#f0f921"
             ]
            ],
            "type": "heatmapgl"
           }
          ],
          "histogram": [
           {
            "marker": {
             "pattern": {
              "fillmode": "overlay",
              "size": 10,
              "solidity": 0.2
             }
            },
            "type": "histogram"
           }
          ],
          "histogram2d": [
           {
            "colorbar": {
             "outlinewidth": 0,
             "ticks": ""
            },
            "colorscale": [
             [
              0,
              "#0d0887"
             ],
             [
              0.1111111111111111,
              "#46039f"
             ],
             [
              0.2222222222222222,
              "#7201a8"
             ],
             [
              0.3333333333333333,
              "#9c179e"
             ],
             [
              0.4444444444444444,
              "#bd3786"
             ],
             [
              0.5555555555555556,
              "#d8576b"
             ],
             [
              0.6666666666666666,
              "#ed7953"
             ],
             [
              0.7777777777777778,
              "#fb9f3a"
             ],
             [
              0.8888888888888888,
              "#fdca26"
             ],
             [
              1,
              "#f0f921"
             ]
            ],
            "type": "histogram2d"
           }
          ],
          "histogram2dcontour": [
           {
            "colorbar": {
             "outlinewidth": 0,
             "ticks": ""
            },
            "colorscale": [
             [
              0,
              "#0d0887"
             ],
             [
              0.1111111111111111,
              "#46039f"
             ],
             [
              0.2222222222222222,
              "#7201a8"
             ],
             [
              0.3333333333333333,
              "#9c179e"
             ],
             [
              0.4444444444444444,
              "#bd3786"
             ],
             [
              0.5555555555555556,
              "#d8576b"
             ],
             [
              0.6666666666666666,
              "#ed7953"
             ],
             [
              0.7777777777777778,
              "#fb9f3a"
             ],
             [
              0.8888888888888888,
              "#fdca26"
             ],
             [
              1,
              "#f0f921"
             ]
            ],
            "type": "histogram2dcontour"
           }
          ],
          "mesh3d": [
           {
            "colorbar": {
             "outlinewidth": 0,
             "ticks": ""
            },
            "type": "mesh3d"
           }
          ],
          "parcoords": [
           {
            "line": {
             "colorbar": {
              "outlinewidth": 0,
              "ticks": ""
             }
            },
            "type": "parcoords"
           }
          ],
          "pie": [
           {
            "automargin": true,
            "type": "pie"
           }
          ],
          "scatter": [
           {
            "fillpattern": {
             "fillmode": "overlay",
             "size": 10,
             "solidity": 0.2
            },
            "type": "scatter"
           }
          ],
          "scatter3d": [
           {
            "line": {
             "colorbar": {
              "outlinewidth": 0,
              "ticks": ""
             }
            },
            "marker": {
             "colorbar": {
              "outlinewidth": 0,
              "ticks": ""
             }
            },
            "type": "scatter3d"
           }
          ],
          "scattercarpet": [
           {
            "marker": {
             "colorbar": {
              "outlinewidth": 0,
              "ticks": ""
             }
            },
            "type": "scattercarpet"
           }
          ],
          "scattergeo": [
           {
            "marker": {
             "colorbar": {
              "outlinewidth": 0,
              "ticks": ""
             }
            },
            "type": "scattergeo"
           }
          ],
          "scattergl": [
           {
            "marker": {
             "colorbar": {
              "outlinewidth": 0,
              "ticks": ""
             }
            },
            "type": "scattergl"
           }
          ],
          "scattermapbox": [
           {
            "marker": {
             "colorbar": {
              "outlinewidth": 0,
              "ticks": ""
             }
            },
            "type": "scattermapbox"
           }
          ],
          "scatterpolar": [
           {
            "marker": {
             "colorbar": {
              "outlinewidth": 0,
              "ticks": ""
             }
            },
            "type": "scatterpolar"
           }
          ],
          "scatterpolargl": [
           {
            "marker": {
             "colorbar": {
              "outlinewidth": 0,
              "ticks": ""
             }
            },
            "type": "scatterpolargl"
           }
          ],
          "scatterternary": [
           {
            "marker": {
             "colorbar": {
              "outlinewidth": 0,
              "ticks": ""
             }
            },
            "type": "scatterternary"
           }
          ],
          "surface": [
           {
            "colorbar": {
             "outlinewidth": 0,
             "ticks": ""
            },
            "colorscale": [
             [
              0,
              "#0d0887"
             ],
             [
              0.1111111111111111,
              "#46039f"
             ],
             [
              0.2222222222222222,
              "#7201a8"
             ],
             [
              0.3333333333333333,
              "#9c179e"
             ],
             [
              0.4444444444444444,
              "#bd3786"
             ],
             [
              0.5555555555555556,
              "#d8576b"
             ],
             [
              0.6666666666666666,
              "#ed7953"
             ],
             [
              0.7777777777777778,
              "#fb9f3a"
             ],
             [
              0.8888888888888888,
              "#fdca26"
             ],
             [
              1,
              "#f0f921"
             ]
            ],
            "type": "surface"
           }
          ],
          "table": [
           {
            "cells": {
             "fill": {
              "color": "#EBF0F8"
             },
             "line": {
              "color": "white"
             }
            },
            "header": {
             "fill": {
              "color": "#C8D4E3"
             },
             "line": {
              "color": "white"
             }
            },
            "type": "table"
           }
          ]
         },
         "layout": {
          "annotationdefaults": {
           "arrowcolor": "#2a3f5f",
           "arrowhead": 0,
           "arrowwidth": 1
          },
          "autotypenumbers": "strict",
          "coloraxis": {
           "colorbar": {
            "outlinewidth": 0,
            "ticks": ""
           }
          },
          "colorscale": {
           "diverging": [
            [
             0,
             "#8e0152"
            ],
            [
             0.1,
             "#c51b7d"
            ],
            [
             0.2,
             "#de77ae"
            ],
            [
             0.3,
             "#f1b6da"
            ],
            [
             0.4,
             "#fde0ef"
            ],
            [
             0.5,
             "#f7f7f7"
            ],
            [
             0.6,
             "#e6f5d0"
            ],
            [
             0.7,
             "#b8e186"
            ],
            [
             0.8,
             "#7fbc41"
            ],
            [
             0.9,
             "#4d9221"
            ],
            [
             1,
             "#276419"
            ]
           ],
           "sequential": [
            [
             0,
             "#0d0887"
            ],
            [
             0.1111111111111111,
             "#46039f"
            ],
            [
             0.2222222222222222,
             "#7201a8"
            ],
            [
             0.3333333333333333,
             "#9c179e"
            ],
            [
             0.4444444444444444,
             "#bd3786"
            ],
            [
             0.5555555555555556,
             "#d8576b"
            ],
            [
             0.6666666666666666,
             "#ed7953"
            ],
            [
             0.7777777777777778,
             "#fb9f3a"
            ],
            [
             0.8888888888888888,
             "#fdca26"
            ],
            [
             1,
             "#f0f921"
            ]
           ],
           "sequentialminus": [
            [
             0,
             "#0d0887"
            ],
            [
             0.1111111111111111,
             "#46039f"
            ],
            [
             0.2222222222222222,
             "#7201a8"
            ],
            [
             0.3333333333333333,
             "#9c179e"
            ],
            [
             0.4444444444444444,
             "#bd3786"
            ],
            [
             0.5555555555555556,
             "#d8576b"
            ],
            [
             0.6666666666666666,
             "#ed7953"
            ],
            [
             0.7777777777777778,
             "#fb9f3a"
            ],
            [
             0.8888888888888888,
             "#fdca26"
            ],
            [
             1,
             "#f0f921"
            ]
           ]
          },
          "colorway": [
           "#636efa",
           "#EF553B",
           "#00cc96",
           "#ab63fa",
           "#FFA15A",
           "#19d3f3",
           "#FF6692",
           "#B6E880",
           "#FF97FF",
           "#FECB52"
          ],
          "font": {
           "color": "#2a3f5f"
          },
          "geo": {
           "bgcolor": "white",
           "lakecolor": "white",
           "landcolor": "#E5ECF6",
           "showlakes": true,
           "showland": true,
           "subunitcolor": "white"
          },
          "hoverlabel": {
           "align": "left"
          },
          "hovermode": "closest",
          "mapbox": {
           "style": "light"
          },
          "paper_bgcolor": "white",
          "plot_bgcolor": "#E5ECF6",
          "polar": {
           "angularaxis": {
            "gridcolor": "white",
            "linecolor": "white",
            "ticks": ""
           },
           "bgcolor": "#E5ECF6",
           "radialaxis": {
            "gridcolor": "white",
            "linecolor": "white",
            "ticks": ""
           }
          },
          "scene": {
           "xaxis": {
            "backgroundcolor": "#E5ECF6",
            "gridcolor": "white",
            "gridwidth": 2,
            "linecolor": "white",
            "showbackground": true,
            "ticks": "",
            "zerolinecolor": "white"
           },
           "yaxis": {
            "backgroundcolor": "#E5ECF6",
            "gridcolor": "white",
            "gridwidth": 2,
            "linecolor": "white",
            "showbackground": true,
            "ticks": "",
            "zerolinecolor": "white"
           },
           "zaxis": {
            "backgroundcolor": "#E5ECF6",
            "gridcolor": "white",
            "gridwidth": 2,
            "linecolor": "white",
            "showbackground": true,
            "ticks": "",
            "zerolinecolor": "white"
           }
          },
          "shapedefaults": {
           "line": {
            "color": "#2a3f5f"
           }
          },
          "ternary": {
           "aaxis": {
            "gridcolor": "white",
            "linecolor": "white",
            "ticks": ""
           },
           "baxis": {
            "gridcolor": "white",
            "linecolor": "white",
            "ticks": ""
           },
           "bgcolor": "#E5ECF6",
           "caxis": {
            "gridcolor": "white",
            "linecolor": "white",
            "ticks": ""
           }
          },
          "title": {
           "x": 0.05
          },
          "xaxis": {
           "automargin": true,
           "gridcolor": "white",
           "linecolor": "white",
           "ticks": "",
           "title": {
            "standoff": 15
           },
           "zerolinecolor": "white",
           "zerolinewidth": 2
          },
          "yaxis": {
           "automargin": true,
           "gridcolor": "white",
           "linecolor": "white",
           "ticks": "",
           "title": {
            "standoff": 15
           },
           "zerolinecolor": "white",
           "zerolinewidth": 2
          }
         }
        }
       }
      }
     },
     "metadata": {},
     "output_type": "display_data"
    }
   ],
   "source": [
    "fig = px.sunburst(df, path=['Application', 'Infra'], values='Intensite_HEMS_syst_unit')\n",
    "\n",
    "fig.update_traces(textinfo=\"label+percent entry+value\")\n",
    "fig.show()"
   ]
  },
  {
   "cell_type": "code",
   "execution_count": 6,
   "metadata": {},
   "outputs": [
    {
     "data": {
      "text/plain": [
       "663.0"
      ]
     },
     "execution_count": 6,
     "metadata": {},
     "output_type": "execute_result"
    }
   ],
   "source": [
    "df['Intensite_HEMS_syst'].sum()"
   ]
  },
  {
   "cell_type": "code",
   "execution_count": 7,
   "metadata": {},
   "outputs": [
    {
     "data": {
      "text/plain": [
       "124.02200563199999"
      ]
     },
     "execution_count": 7,
     "metadata": {},
     "output_type": "execute_result"
    }
   ],
   "source": [
    "Stock_annuel(HEMS)"
   ]
  },
  {
   "cell_type": "code",
   "execution_count": 8,
   "metadata": {},
   "outputs": [],
   "source": [
    "class acv:\n",
    "    def __init__(self,emissions,ddv,ddv_syst, site ):\n",
    "        self.emissions = emissions\n",
    "        self.ddv = ddv\n",
    "        self.nb_ddv_syst = ddv_syst / ddv\n",
    "        self.site = site\n",
    "        self.emissions_ddv = emissions * self.nb_ddv_syst * site\n",
    "\n",
    "Intensite_mix_elec = 0.05 #Kg CO2 eq / Kwh\n",
    "Ratio_Fab = 0.45\n",
    "Ratio_Use = 1-Ratio_Fab\n",
    "\n",
    "Pv = acv(1000,30,30,1)\n",
    "Bat= acv(173,5000,365*30,5)\n",
    "Inverter_Pv =  acv(140,15,30,Pv.site)\n",
    "Inverter_Bat =  acv(140,15,30,Bat.site / 3)\n",
    "Gateway_fab = acv(50,5,30,1)\n",
    "Gateway_use = acv(Intensite_mix_elec,1,30*365*24,0.005) #acv(intensite du mix elec, 1, Nombre d'heure en 30 ans, Puissance en KW)\n",
    "Server_fab = acv(df['Intensite_HEMS_syst_unit'].sum(),30,30,1) \n",
    "Server_use = acv(df['Intensite_HEMS_syst_unit'].sum() * Ratio_Use / Ratio_Fab, 30, 30, 1)\n",
    "\n",
    "\n",
    "    \n",
    "    "
   ]
  },
  {
   "cell_type": "code",
   "execution_count": 9,
   "metadata": {},
   "outputs": [],
   "source": [
    "df_CO2 = pd.DataFrame(\n",
    "    {\n",
    "        'Device' : pd.Categorical(['Pv', 'Bat', 'Inverter', 'Inverter', 'Gateway', 'Gateway', 'Server', 'Server','Instal']),\n",
    "        'Family_device' : pd.Categorical(['Pv','Bat','Pv','Bat','Gateway','Gateway','Server','Server','Instal']),\n",
    "        'Post_emission' : pd.Categorical(['Fab','Fab','Fab','Fab','Fab','Use','Fab','Use','Instal'])\n",
    "    }\n",
    "    \n",
    ")\n",
    "df_CO2['Emissions'] = [Pv.emissions_ddv, Bat.emissions_ddv, Inverter_Pv.emissions_ddv, Inverter_Bat.emissions_ddv, Gateway_fab.emissions_ddv,Gateway_use.emissions_ddv,Server_fab.emissions_ddv,Server_use.emissions_ddv,0]\n",
    "df_CO2.loc[(df_CO2[\"Device\"]==\"Instal\") , \"Emissions\"] = df_CO2['Emissions'].sum() * 0.1 / 0.9\n",
    "df_CO2=round(df_CO2,2)"
   ]
  },
  {
   "cell_type": "code",
   "execution_count": 10,
   "metadata": {},
   "outputs": [
    {
     "data": {
      "text/html": [
       "<div>\n",
       "<style scoped>\n",
       "    .dataframe tbody tr th:only-of-type {\n",
       "        vertical-align: middle;\n",
       "    }\n",
       "\n",
       "    .dataframe tbody tr th {\n",
       "        vertical-align: top;\n",
       "    }\n",
       "\n",
       "    .dataframe thead th {\n",
       "        text-align: right;\n",
       "    }\n",
       "</style>\n",
       "<table border=\"1\" class=\"dataframe\">\n",
       "  <thead>\n",
       "    <tr style=\"text-align: right;\">\n",
       "      <th></th>\n",
       "      <th>Device</th>\n",
       "      <th>Family_device</th>\n",
       "      <th>Post_emission</th>\n",
       "      <th>Emissions</th>\n",
       "    </tr>\n",
       "  </thead>\n",
       "  <tbody>\n",
       "    <tr>\n",
       "      <th>0</th>\n",
       "      <td>Pv</td>\n",
       "      <td>Pv</td>\n",
       "      <td>Fab</td>\n",
       "      <td>1000.00</td>\n",
       "    </tr>\n",
       "    <tr>\n",
       "      <th>1</th>\n",
       "      <td>Bat</td>\n",
       "      <td>Bat</td>\n",
       "      <td>Fab</td>\n",
       "      <td>1894.35</td>\n",
       "    </tr>\n",
       "    <tr>\n",
       "      <th>2</th>\n",
       "      <td>Inverter</td>\n",
       "      <td>Pv</td>\n",
       "      <td>Fab</td>\n",
       "      <td>280.00</td>\n",
       "    </tr>\n",
       "    <tr>\n",
       "      <th>3</th>\n",
       "      <td>Inverter</td>\n",
       "      <td>Bat</td>\n",
       "      <td>Fab</td>\n",
       "      <td>466.67</td>\n",
       "    </tr>\n",
       "    <tr>\n",
       "      <th>4</th>\n",
       "      <td>Gateway</td>\n",
       "      <td>Gateway</td>\n",
       "      <td>Fab</td>\n",
       "      <td>300.00</td>\n",
       "    </tr>\n",
       "    <tr>\n",
       "      <th>5</th>\n",
       "      <td>Gateway</td>\n",
       "      <td>Gateway</td>\n",
       "      <td>Use</td>\n",
       "      <td>65.70</td>\n",
       "    </tr>\n",
       "    <tr>\n",
       "      <th>6</th>\n",
       "      <td>Server</td>\n",
       "      <td>Server</td>\n",
       "      <td>Fab</td>\n",
       "      <td>663.00</td>\n",
       "    </tr>\n",
       "    <tr>\n",
       "      <th>7</th>\n",
       "      <td>Server</td>\n",
       "      <td>Server</td>\n",
       "      <td>Use</td>\n",
       "      <td>810.33</td>\n",
       "    </tr>\n",
       "    <tr>\n",
       "      <th>8</th>\n",
       "      <td>Instal</td>\n",
       "      <td>Instal</td>\n",
       "      <td>Instal</td>\n",
       "      <td>608.89</td>\n",
       "    </tr>\n",
       "  </tbody>\n",
       "</table>\n",
       "</div>"
      ],
      "text/plain": [
       "     Device Family_device Post_emission  Emissions\n",
       "0        Pv            Pv           Fab    1000.00\n",
       "1       Bat           Bat           Fab    1894.35\n",
       "2  Inverter            Pv           Fab     280.00\n",
       "3  Inverter           Bat           Fab     466.67\n",
       "4   Gateway       Gateway           Fab     300.00\n",
       "5   Gateway       Gateway           Use      65.70\n",
       "6    Server        Server           Fab     663.00\n",
       "7    Server        Server           Use     810.33\n",
       "8    Instal        Instal        Instal     608.89"
      ]
     },
     "execution_count": 10,
     "metadata": {},
     "output_type": "execute_result"
    }
   ],
   "source": [
    "df_CO2"
   ]
  },
  {
   "cell_type": "code",
   "execution_count": 11,
   "metadata": {},
   "outputs": [
    {
     "data": {
      "application/vnd.plotly.v1+json": {
       "config": {
        "plotlyServerURL": "https://plot.ly"
       },
       "data": [
        {
         "branchvalues": "total",
         "domain": {
          "x": [
           0,
           1
          ],
          "y": [
           0,
           1
          ]
         },
         "hovertemplate": "labels=%{label}<br>Emissions=%{value}<br>parent=%{parent}<br>id=%{id}<extra></extra>",
         "ids": [
          "Bat/Bat/Fab",
          "Gateway/Bat/Fab",
          "Instal/Bat/Fab",
          "Pv/Bat/Fab",
          "Server/Bat/Fab",
          "Bat/Gateway/Fab",
          "Gateway/Gateway/Fab",
          "Instal/Gateway/Fab",
          "Pv/Gateway/Fab",
          "Server/Gateway/Fab",
          "Bat/Instal/Fab",
          "Gateway/Instal/Fab",
          "Instal/Instal/Fab",
          "Pv/Instal/Fab",
          "Server/Instal/Fab",
          "Bat/Inverter/Fab",
          "Gateway/Inverter/Fab",
          "Instal/Inverter/Fab",
          "Pv/Inverter/Fab",
          "Server/Inverter/Fab",
          "Bat/Pv/Fab",
          "Gateway/Pv/Fab",
          "Instal/Pv/Fab",
          "Pv/Pv/Fab",
          "Server/Pv/Fab",
          "Bat/Server/Fab",
          "Gateway/Server/Fab",
          "Instal/Server/Fab",
          "Pv/Server/Fab",
          "Server/Server/Fab",
          "Bat/Bat/Instal",
          "Gateway/Bat/Instal",
          "Instal/Bat/Instal",
          "Pv/Bat/Instal",
          "Server/Bat/Instal",
          "Bat/Gateway/Instal",
          "Gateway/Gateway/Instal",
          "Instal/Gateway/Instal",
          "Pv/Gateway/Instal",
          "Server/Gateway/Instal",
          "Bat/Instal/Instal",
          "Gateway/Instal/Instal",
          "Instal/Instal/Instal",
          "Pv/Instal/Instal",
          "Server/Instal/Instal",
          "Bat/Inverter/Instal",
          "Gateway/Inverter/Instal",
          "Instal/Inverter/Instal",
          "Pv/Inverter/Instal",
          "Server/Inverter/Instal",
          "Bat/Pv/Instal",
          "Gateway/Pv/Instal",
          "Instal/Pv/Instal",
          "Pv/Pv/Instal",
          "Server/Pv/Instal",
          "Bat/Server/Instal",
          "Gateway/Server/Instal",
          "Instal/Server/Instal",
          "Pv/Server/Instal",
          "Server/Server/Instal",
          "Bat/Bat/Use",
          "Gateway/Bat/Use",
          "Instal/Bat/Use",
          "Pv/Bat/Use",
          "Server/Bat/Use",
          "Bat/Gateway/Use",
          "Gateway/Gateway/Use",
          "Instal/Gateway/Use",
          "Pv/Gateway/Use",
          "Server/Gateway/Use",
          "Bat/Instal/Use",
          "Gateway/Instal/Use",
          "Instal/Instal/Use",
          "Pv/Instal/Use",
          "Server/Instal/Use",
          "Bat/Inverter/Use",
          "Gateway/Inverter/Use",
          "Instal/Inverter/Use",
          "Pv/Inverter/Use",
          "Server/Inverter/Use",
          "Bat/Pv/Use",
          "Gateway/Pv/Use",
          "Instal/Pv/Use",
          "Pv/Pv/Use",
          "Server/Pv/Use",
          "Bat/Server/Use",
          "Gateway/Server/Use",
          "Instal/Server/Use",
          "Pv/Server/Use",
          "Server/Server/Use",
          "Bat/Bat",
          "Gateway/Bat",
          "Instal/Bat",
          "Pv/Bat",
          "Server/Bat",
          "Bat/Gateway",
          "Gateway/Gateway",
          "Instal/Gateway",
          "Pv/Gateway",
          "Server/Gateway",
          "Bat/Instal",
          "Gateway/Instal",
          "Instal/Instal",
          "Pv/Instal",
          "Server/Instal",
          "Bat/Inverter",
          "Gateway/Inverter",
          "Instal/Inverter",
          "Pv/Inverter",
          "Server/Inverter",
          "Bat/Pv",
          "Gateway/Pv",
          "Instal/Pv",
          "Pv/Pv",
          "Server/Pv",
          "Bat/Server",
          "Gateway/Server",
          "Instal/Server",
          "Pv/Server",
          "Server/Server",
          "Bat",
          "Gateway",
          "Instal",
          "Pv",
          "Server"
         ],
         "labels": [
          "Fab",
          "Fab",
          "Fab",
          "Fab",
          "Fab",
          "Fab",
          "Fab",
          "Fab",
          "Fab",
          "Fab",
          "Fab",
          "Fab",
          "Fab",
          "Fab",
          "Fab",
          "Fab",
          "Fab",
          "Fab",
          "Fab",
          "Fab",
          "Fab",
          "Fab",
          "Fab",
          "Fab",
          "Fab",
          "Fab",
          "Fab",
          "Fab",
          "Fab",
          "Fab",
          "Instal",
          "Instal",
          "Instal",
          "Instal",
          "Instal",
          "Instal",
          "Instal",
          "Instal",
          "Instal",
          "Instal",
          "Instal",
          "Instal",
          "Instal",
          "Instal",
          "Instal",
          "Instal",
          "Instal",
          "Instal",
          "Instal",
          "Instal",
          "Instal",
          "Instal",
          "Instal",
          "Instal",
          "Instal",
          "Instal",
          "Instal",
          "Instal",
          "Instal",
          "Instal",
          "Use",
          "Use",
          "Use",
          "Use",
          "Use",
          "Use",
          "Use",
          "Use",
          "Use",
          "Use",
          "Use",
          "Use",
          "Use",
          "Use",
          "Use",
          "Use",
          "Use",
          "Use",
          "Use",
          "Use",
          "Use",
          "Use",
          "Use",
          "Use",
          "Use",
          "Use",
          "Use",
          "Use",
          "Use",
          "Use",
          "Bat",
          "Bat",
          "Bat",
          "Bat",
          "Bat",
          "Gateway",
          "Gateway",
          "Gateway",
          "Gateway",
          "Gateway",
          "Instal",
          "Instal",
          "Instal",
          "Instal",
          "Instal",
          "Inverter",
          "Inverter",
          "Inverter",
          "Inverter",
          "Inverter",
          "Pv",
          "Pv",
          "Pv",
          "Pv",
          "Pv",
          "Server",
          "Server",
          "Server",
          "Server",
          "Server",
          "Bat",
          "Gateway",
          "Instal",
          "Pv",
          "Server"
         ],
         "name": "",
         "parents": [
          "Bat/Bat",
          "Gateway/Bat",
          "Instal/Bat",
          "Pv/Bat",
          "Server/Bat",
          "Bat/Gateway",
          "Gateway/Gateway",
          "Instal/Gateway",
          "Pv/Gateway",
          "Server/Gateway",
          "Bat/Instal",
          "Gateway/Instal",
          "Instal/Instal",
          "Pv/Instal",
          "Server/Instal",
          "Bat/Inverter",
          "Gateway/Inverter",
          "Instal/Inverter",
          "Pv/Inverter",
          "Server/Inverter",
          "Bat/Pv",
          "Gateway/Pv",
          "Instal/Pv",
          "Pv/Pv",
          "Server/Pv",
          "Bat/Server",
          "Gateway/Server",
          "Instal/Server",
          "Pv/Server",
          "Server/Server",
          "Bat/Bat",
          "Gateway/Bat",
          "Instal/Bat",
          "Pv/Bat",
          "Server/Bat",
          "Bat/Gateway",
          "Gateway/Gateway",
          "Instal/Gateway",
          "Pv/Gateway",
          "Server/Gateway",
          "Bat/Instal",
          "Gateway/Instal",
          "Instal/Instal",
          "Pv/Instal",
          "Server/Instal",
          "Bat/Inverter",
          "Gateway/Inverter",
          "Instal/Inverter",
          "Pv/Inverter",
          "Server/Inverter",
          "Bat/Pv",
          "Gateway/Pv",
          "Instal/Pv",
          "Pv/Pv",
          "Server/Pv",
          "Bat/Server",
          "Gateway/Server",
          "Instal/Server",
          "Pv/Server",
          "Server/Server",
          "Bat/Bat",
          "Gateway/Bat",
          "Instal/Bat",
          "Pv/Bat",
          "Server/Bat",
          "Bat/Gateway",
          "Gateway/Gateway",
          "Instal/Gateway",
          "Pv/Gateway",
          "Server/Gateway",
          "Bat/Instal",
          "Gateway/Instal",
          "Instal/Instal",
          "Pv/Instal",
          "Server/Instal",
          "Bat/Inverter",
          "Gateway/Inverter",
          "Instal/Inverter",
          "Pv/Inverter",
          "Server/Inverter",
          "Bat/Pv",
          "Gateway/Pv",
          "Instal/Pv",
          "Pv/Pv",
          "Server/Pv",
          "Bat/Server",
          "Gateway/Server",
          "Instal/Server",
          "Pv/Server",
          "Server/Server",
          "Bat",
          "Gateway",
          "Instal",
          "Pv",
          "Server",
          "Bat",
          "Gateway",
          "Instal",
          "Pv",
          "Server",
          "Bat",
          "Gateway",
          "Instal",
          "Pv",
          "Server",
          "Bat",
          "Gateway",
          "Instal",
          "Pv",
          "Server",
          "Bat",
          "Gateway",
          "Instal",
          "Pv",
          "Server",
          "Bat",
          "Gateway",
          "Instal",
          "Pv",
          "Server",
          "",
          "",
          "",
          "",
          ""
         ],
         "textinfo": "label+percent entry",
         "type": "sunburst",
         "values": [
          1894.35,
          0,
          0,
          0,
          0,
          0,
          300,
          0,
          0,
          0,
          0,
          0,
          0,
          0,
          0,
          466.67,
          0,
          0,
          280,
          0,
          0,
          0,
          0,
          1000,
          0,
          0,
          0,
          0,
          0,
          663,
          0,
          0,
          0,
          0,
          0,
          0,
          0,
          0,
          0,
          0,
          0,
          0,
          608.89,
          0,
          0,
          0,
          0,
          0,
          0,
          0,
          0,
          0,
          0,
          0,
          0,
          0,
          0,
          0,
          0,
          0,
          0,
          0,
          0,
          0,
          0,
          0,
          65.7,
          0,
          0,
          0,
          0,
          0,
          0,
          0,
          0,
          0,
          0,
          0,
          0,
          0,
          0,
          0,
          0,
          0,
          0,
          0,
          0,
          0,
          0,
          810.33,
          1894.35,
          0,
          0,
          0,
          0,
          0,
          365.7,
          0,
          0,
          0,
          0,
          0,
          608.89,
          0,
          0,
          466.67,
          0,
          0,
          280,
          0,
          0,
          0,
          0,
          1000,
          0,
          0,
          0,
          0,
          0,
          1473.33,
          2361.02,
          365.7,
          608.89,
          1280,
          1473.33
         ]
        }
       ],
       "layout": {
        "legend": {
         "tracegroupgap": 0
        },
        "margin": {
         "t": 60
        },
        "template": {
         "data": {
          "bar": [
           {
            "error_x": {
             "color": "#2a3f5f"
            },
            "error_y": {
             "color": "#2a3f5f"
            },
            "marker": {
             "line": {
              "color": "#E5ECF6",
              "width": 0.5
             },
             "pattern": {
              "fillmode": "overlay",
              "size": 10,
              "solidity": 0.2
             }
            },
            "type": "bar"
           }
          ],
          "barpolar": [
           {
            "marker": {
             "line": {
              "color": "#E5ECF6",
              "width": 0.5
             },
             "pattern": {
              "fillmode": "overlay",
              "size": 10,
              "solidity": 0.2
             }
            },
            "type": "barpolar"
           }
          ],
          "carpet": [
           {
            "aaxis": {
             "endlinecolor": "#2a3f5f",
             "gridcolor": "white",
             "linecolor": "white",
             "minorgridcolor": "white",
             "startlinecolor": "#2a3f5f"
            },
            "baxis": {
             "endlinecolor": "#2a3f5f",
             "gridcolor": "white",
             "linecolor": "white",
             "minorgridcolor": "white",
             "startlinecolor": "#2a3f5f"
            },
            "type": "carpet"
           }
          ],
          "choropleth": [
           {
            "colorbar": {
             "outlinewidth": 0,
             "ticks": ""
            },
            "type": "choropleth"
           }
          ],
          "contour": [
           {
            "colorbar": {
             "outlinewidth": 0,
             "ticks": ""
            },
            "colorscale": [
             [
              0,
              "#0d0887"
             ],
             [
              0.1111111111111111,
              "#46039f"
             ],
             [
              0.2222222222222222,
              "#7201a8"
             ],
             [
              0.3333333333333333,
              "#9c179e"
             ],
             [
              0.4444444444444444,
              "#bd3786"
             ],
             [
              0.5555555555555556,
              "#d8576b"
             ],
             [
              0.6666666666666666,
              "#ed7953"
             ],
             [
              0.7777777777777778,
              "#fb9f3a"
             ],
             [
              0.8888888888888888,
              "#fdca26"
             ],
             [
              1,
              "#f0f921"
             ]
            ],
            "type": "contour"
           }
          ],
          "contourcarpet": [
           {
            "colorbar": {
             "outlinewidth": 0,
             "ticks": ""
            },
            "type": "contourcarpet"
           }
          ],
          "heatmap": [
           {
            "colorbar": {
             "outlinewidth": 0,
             "ticks": ""
            },
            "colorscale": [
             [
              0,
              "#0d0887"
             ],
             [
              0.1111111111111111,
              "#46039f"
             ],
             [
              0.2222222222222222,
              "#7201a8"
             ],
             [
              0.3333333333333333,
              "#9c179e"
             ],
             [
              0.4444444444444444,
              "#bd3786"
             ],
             [
              0.5555555555555556,
              "#d8576b"
             ],
             [
              0.6666666666666666,
              "#ed7953"
             ],
             [
              0.7777777777777778,
              "#fb9f3a"
             ],
             [
              0.8888888888888888,
              "#fdca26"
             ],
             [
              1,
              "#f0f921"
             ]
            ],
            "type": "heatmap"
           }
          ],
          "heatmapgl": [
           {
            "colorbar": {
             "outlinewidth": 0,
             "ticks": ""
            },
            "colorscale": [
             [
              0,
              "#0d0887"
             ],
             [
              0.1111111111111111,
              "#46039f"
             ],
             [
              0.2222222222222222,
              "#7201a8"
             ],
             [
              0.3333333333333333,
              "#9c179e"
             ],
             [
              0.4444444444444444,
              "#bd3786"
             ],
             [
              0.5555555555555556,
              "#d8576b"
             ],
             [
              0.6666666666666666,
              "#ed7953"
             ],
             [
              0.7777777777777778,
              "#fb9f3a"
             ],
             [
              0.8888888888888888,
              "#fdca26"
             ],
             [
              1,
              "#f0f921"
             ]
            ],
            "type": "heatmapgl"
           }
          ],
          "histogram": [
           {
            "marker": {
             "pattern": {
              "fillmode": "overlay",
              "size": 10,
              "solidity": 0.2
             }
            },
            "type": "histogram"
           }
          ],
          "histogram2d": [
           {
            "colorbar": {
             "outlinewidth": 0,
             "ticks": ""
            },
            "colorscale": [
             [
              0,
              "#0d0887"
             ],
             [
              0.1111111111111111,
              "#46039f"
             ],
             [
              0.2222222222222222,
              "#7201a8"
             ],
             [
              0.3333333333333333,
              "#9c179e"
             ],
             [
              0.4444444444444444,
              "#bd3786"
             ],
             [
              0.5555555555555556,
              "#d8576b"
             ],
             [
              0.6666666666666666,
              "#ed7953"
             ],
             [
              0.7777777777777778,
              "#fb9f3a"
             ],
             [
              0.8888888888888888,
              "#fdca26"
             ],
             [
              1,
              "#f0f921"
             ]
            ],
            "type": "histogram2d"
           }
          ],
          "histogram2dcontour": [
           {
            "colorbar": {
             "outlinewidth": 0,
             "ticks": ""
            },
            "colorscale": [
             [
              0,
              "#0d0887"
             ],
             [
              0.1111111111111111,
              "#46039f"
             ],
             [
              0.2222222222222222,
              "#7201a8"
             ],
             [
              0.3333333333333333,
              "#9c179e"
             ],
             [
              0.4444444444444444,
              "#bd3786"
             ],
             [
              0.5555555555555556,
              "#d8576b"
             ],
             [
              0.6666666666666666,
              "#ed7953"
             ],
             [
              0.7777777777777778,
              "#fb9f3a"
             ],
             [
              0.8888888888888888,
              "#fdca26"
             ],
             [
              1,
              "#f0f921"
             ]
            ],
            "type": "histogram2dcontour"
           }
          ],
          "mesh3d": [
           {
            "colorbar": {
             "outlinewidth": 0,
             "ticks": ""
            },
            "type": "mesh3d"
           }
          ],
          "parcoords": [
           {
            "line": {
             "colorbar": {
              "outlinewidth": 0,
              "ticks": ""
             }
            },
            "type": "parcoords"
           }
          ],
          "pie": [
           {
            "automargin": true,
            "type": "pie"
           }
          ],
          "scatter": [
           {
            "fillpattern": {
             "fillmode": "overlay",
             "size": 10,
             "solidity": 0.2
            },
            "type": "scatter"
           }
          ],
          "scatter3d": [
           {
            "line": {
             "colorbar": {
              "outlinewidth": 0,
              "ticks": ""
             }
            },
            "marker": {
             "colorbar": {
              "outlinewidth": 0,
              "ticks": ""
             }
            },
            "type": "scatter3d"
           }
          ],
          "scattercarpet": [
           {
            "marker": {
             "colorbar": {
              "outlinewidth": 0,
              "ticks": ""
             }
            },
            "type": "scattercarpet"
           }
          ],
          "scattergeo": [
           {
            "marker": {
             "colorbar": {
              "outlinewidth": 0,
              "ticks": ""
             }
            },
            "type": "scattergeo"
           }
          ],
          "scattergl": [
           {
            "marker": {
             "colorbar": {
              "outlinewidth": 0,
              "ticks": ""
             }
            },
            "type": "scattergl"
           }
          ],
          "scattermapbox": [
           {
            "marker": {
             "colorbar": {
              "outlinewidth": 0,
              "ticks": ""
             }
            },
            "type": "scattermapbox"
           }
          ],
          "scatterpolar": [
           {
            "marker": {
             "colorbar": {
              "outlinewidth": 0,
              "ticks": ""
             }
            },
            "type": "scatterpolar"
           }
          ],
          "scatterpolargl": [
           {
            "marker": {
             "colorbar": {
              "outlinewidth": 0,
              "ticks": ""
             }
            },
            "type": "scatterpolargl"
           }
          ],
          "scatterternary": [
           {
            "marker": {
             "colorbar": {
              "outlinewidth": 0,
              "ticks": ""
             }
            },
            "type": "scatterternary"
           }
          ],
          "surface": [
           {
            "colorbar": {
             "outlinewidth": 0,
             "ticks": ""
            },
            "colorscale": [
             [
              0,
              "#0d0887"
             ],
             [
              0.1111111111111111,
              "#46039f"
             ],
             [
              0.2222222222222222,
              "#7201a8"
             ],
             [
              0.3333333333333333,
              "#9c179e"
             ],
             [
              0.4444444444444444,
              "#bd3786"
             ],
             [
              0.5555555555555556,
              "#d8576b"
             ],
             [
              0.6666666666666666,
              "#ed7953"
             ],
             [
              0.7777777777777778,
              "#fb9f3a"
             ],
             [
              0.8888888888888888,
              "#fdca26"
             ],
             [
              1,
              "#f0f921"
             ]
            ],
            "type": "surface"
           }
          ],
          "table": [
           {
            "cells": {
             "fill": {
              "color": "#EBF0F8"
             },
             "line": {
              "color": "white"
             }
            },
            "header": {
             "fill": {
              "color": "#C8D4E3"
             },
             "line": {
              "color": "white"
             }
            },
            "type": "table"
           }
          ]
         },
         "layout": {
          "annotationdefaults": {
           "arrowcolor": "#2a3f5f",
           "arrowhead": 0,
           "arrowwidth": 1
          },
          "autotypenumbers": "strict",
          "coloraxis": {
           "colorbar": {
            "outlinewidth": 0,
            "ticks": ""
           }
          },
          "colorscale": {
           "diverging": [
            [
             0,
             "#8e0152"
            ],
            [
             0.1,
             "#c51b7d"
            ],
            [
             0.2,
             "#de77ae"
            ],
            [
             0.3,
             "#f1b6da"
            ],
            [
             0.4,
             "#fde0ef"
            ],
            [
             0.5,
             "#f7f7f7"
            ],
            [
             0.6,
             "#e6f5d0"
            ],
            [
             0.7,
             "#b8e186"
            ],
            [
             0.8,
             "#7fbc41"
            ],
            [
             0.9,
             "#4d9221"
            ],
            [
             1,
             "#276419"
            ]
           ],
           "sequential": [
            [
             0,
             "#0d0887"
            ],
            [
             0.1111111111111111,
             "#46039f"
            ],
            [
             0.2222222222222222,
             "#7201a8"
            ],
            [
             0.3333333333333333,
             "#9c179e"
            ],
            [
             0.4444444444444444,
             "#bd3786"
            ],
            [
             0.5555555555555556,
             "#d8576b"
            ],
            [
             0.6666666666666666,
             "#ed7953"
            ],
            [
             0.7777777777777778,
             "#fb9f3a"
            ],
            [
             0.8888888888888888,
             "#fdca26"
            ],
            [
             1,
             "#f0f921"
            ]
           ],
           "sequentialminus": [
            [
             0,
             "#0d0887"
            ],
            [
             0.1111111111111111,
             "#46039f"
            ],
            [
             0.2222222222222222,
             "#7201a8"
            ],
            [
             0.3333333333333333,
             "#9c179e"
            ],
            [
             0.4444444444444444,
             "#bd3786"
            ],
            [
             0.5555555555555556,
             "#d8576b"
            ],
            [
             0.6666666666666666,
             "#ed7953"
            ],
            [
             0.7777777777777778,
             "#fb9f3a"
            ],
            [
             0.8888888888888888,
             "#fdca26"
            ],
            [
             1,
             "#f0f921"
            ]
           ]
          },
          "colorway": [
           "#636efa",
           "#EF553B",
           "#00cc96",
           "#ab63fa",
           "#FFA15A",
           "#19d3f3",
           "#FF6692",
           "#B6E880",
           "#FF97FF",
           "#FECB52"
          ],
          "font": {
           "color": "#2a3f5f"
          },
          "geo": {
           "bgcolor": "white",
           "lakecolor": "white",
           "landcolor": "#E5ECF6",
           "showlakes": true,
           "showland": true,
           "subunitcolor": "white"
          },
          "hoverlabel": {
           "align": "left"
          },
          "hovermode": "closest",
          "mapbox": {
           "style": "light"
          },
          "paper_bgcolor": "white",
          "plot_bgcolor": "#E5ECF6",
          "polar": {
           "angularaxis": {
            "gridcolor": "white",
            "linecolor": "white",
            "ticks": ""
           },
           "bgcolor": "#E5ECF6",
           "radialaxis": {
            "gridcolor": "white",
            "linecolor": "white",
            "ticks": ""
           }
          },
          "scene": {
           "xaxis": {
            "backgroundcolor": "#E5ECF6",
            "gridcolor": "white",
            "gridwidth": 2,
            "linecolor": "white",
            "showbackground": true,
            "ticks": "",
            "zerolinecolor": "white"
           },
           "yaxis": {
            "backgroundcolor": "#E5ECF6",
            "gridcolor": "white",
            "gridwidth": 2,
            "linecolor": "white",
            "showbackground": true,
            "ticks": "",
            "zerolinecolor": "white"
           },
           "zaxis": {
            "backgroundcolor": "#E5ECF6",
            "gridcolor": "white",
            "gridwidth": 2,
            "linecolor": "white",
            "showbackground": true,
            "ticks": "",
            "zerolinecolor": "white"
           }
          },
          "shapedefaults": {
           "line": {
            "color": "#2a3f5f"
           }
          },
          "ternary": {
           "aaxis": {
            "gridcolor": "white",
            "linecolor": "white",
            "ticks": ""
           },
           "baxis": {
            "gridcolor": "white",
            "linecolor": "white",
            "ticks": ""
           },
           "bgcolor": "#E5ECF6",
           "caxis": {
            "gridcolor": "white",
            "linecolor": "white",
            "ticks": ""
           }
          },
          "title": {
           "x": 0.05
          },
          "xaxis": {
           "automargin": true,
           "gridcolor": "white",
           "linecolor": "white",
           "ticks": "",
           "title": {
            "standoff": 15
           },
           "zerolinecolor": "white",
           "zerolinewidth": 2
          },
          "yaxis": {
           "automargin": true,
           "gridcolor": "white",
           "linecolor": "white",
           "ticks": "",
           "title": {
            "standoff": 15
           },
           "zerolinecolor": "white",
           "zerolinewidth": 2
          }
         }
        }
       }
      }
     },
     "metadata": {},
     "output_type": "display_data"
    }
   ],
   "source": [
    "fig = px.sunburst(df_CO2, path=['Family_device', 'Device', 'Post_emission'], values='Emissions')\n",
    "\n",
    "fig.update_traces(textinfo=\"label+percent entry\")\n",
    "fig.show()"
   ]
  },
  {
   "cell_type": "code",
   "execution_count": 12,
   "metadata": {},
   "outputs": [
    {
     "data": {
      "text/plain": [
       "6088.9400000000005"
      ]
     },
     "execution_count": 12,
     "metadata": {},
     "output_type": "execute_result"
    }
   ],
   "source": [
    "df_CO2['Emissions'].sum()"
   ]
  },
  {
   "cell_type": "code",
   "execution_count": 13,
   "metadata": {},
   "outputs": [
    {
     "data": {
      "text/plain": [
       "1473.33"
      ]
     },
     "execution_count": 13,
     "metadata": {},
     "output_type": "execute_result"
    }
   ],
   "source": [
    "df_CO2.loc[(df_CO2[\"Device\"]==\"Server\") , \"Emissions\"].sum()"
   ]
  },
  {
   "cell_type": "code",
   "execution_count": 14,
   "metadata": {},
   "outputs": [
    {
     "data": {
      "text/plain": [
       "0.8931625919999998"
      ]
     },
     "execution_count": 14,
     "metadata": {},
     "output_type": "execute_result"
    }
   ],
   "source": [
    "Stock_annuel(varta)/27000"
   ]
  }
 ],
 "metadata": {
  "kernelspec": {
   "display_name": "Python 3",
   "language": "python",
   "name": "python3"
  },
  "language_info": {
   "codemirror_mode": {
    "name": "ipython",
    "version": 3
   },
   "file_extension": ".py",
   "mimetype": "text/x-python",
   "name": "python",
   "nbconvert_exporter": "python",
   "pygments_lexer": "ipython3",
   "version": "3.9.18"
  },
  "orig_nbformat": 4
 },
 "nbformat": 4,
 "nbformat_minor": 2
}
